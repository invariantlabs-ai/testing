{
 "cells": [
  {
   "cell_type": "code",
   "execution_count": null,
   "metadata": {},
   "outputs": [],
   "source": [
    "fruit_first_letters = fruits.map(lambda fruit: fruit[0])\n",
    "max_fruit_len = fruits.map(lambda fruit: len(fruit)).reduce(lambda a, b: max(a, b), initial=0)\n",
    "# InvariantNumber(<max_value>, addresses=[<address>])"
   ]
  },
  {
   "cell_type": "markdown",
   "metadata": {},
   "source": [
    "## Selecting Messages\n",
    "\n",
    "A `Trace` object can be used to select specific messages from the trace. This is useful for selecting messages that are relevant to the test assertions."
   ]
  },
  {
   "cell_type": "code",
   "execution_count": 5,
   "metadata": {},
   "outputs": [
    {
     "data": {
      "text/plain": [
       "{'role': 'user', 'content': 'Hello there'} at 0"
      ]
     },
     "execution_count": 5,
     "metadata": {},
     "output_type": "execute_result"
    }
   ],
   "source": [
    "# select the first trace message\n",
    "trace.messages(0)"
   ]
  },
  {
   "cell_type": "code",
   "execution_count": 6,
   "metadata": {},
   "outputs": [
    {
     "data": {
      "text/plain": [
       "InvariantList[{'role': 'user', 'content': 'Hello there'}, {'role': 'user', 'content': 'I need help with something.'}] at [['0'], ['2']]"
      ]
     },
     "execution_count": 6,
     "metadata": {},
     "output_type": "execute_result"
    }
   ],
   "source": [
    "# select all user messages\n",
    "trace.messages(role=\"user\")"
   ]
  },
  {
   "cell_type": "code",
   "execution_count": 7,
   "metadata": {},
   "outputs": [
    {
     "data": {
      "text/plain": [
       "InvariantList[{'role': 'user', 'content': 'I need help with something.'}] at [['2']]"
      ]
     },
     "execution_count": 7,
     "metadata": {},
     "output_type": "execute_result"
    }
   ],
   "source": [
    "# select the message with 'something' in the content\n",
    "trace.messages(content=lambda c: 'something' in c)"
   ]
  },
  {
   "cell_type": "markdown",
   "metadata": {},
   "source": [
    "On the one hand, the `trace.messages(...)` selector function gives you a convenient way to select messages from the trace. However, in addition to this, it also keeps track of the exact path of the resulting objects in the trace.\n",
    "\n",
    "This is useful for debugging and backtracking assertion failures, down to the exact agent event that is causing the failure.\n",
    "\n",
    "Whenever accessing a message, property or sub-dictionary, Invariant Testing will track the exact path and range of its location in the trace."
   ]
  },
  {
   "cell_type": "code",
   "execution_count": 14,
   "metadata": {},
   "outputs": [
    {
     "name": "stdout",
     "output_type": "stream",
     "text": [
      "I need help with something. at 2.content:0-27\n"
     ]
    }
   ],
   "source": [
    "# selecting content from the 2nd message in the trace\n",
    "content = trace.messages(2)[\"content\"]\n",
    "print(content)"
   ]
  },
  {
   "cell_type": "markdown",
   "metadata": {},
   "source": [
    "## Selecting Tool Calls\n",
    "\n",
    "Similar to selecting messages, you can also select just tool calls from the trace."
   ]
  },
  {
   "cell_type": "code",
   "execution_count": 3,
   "metadata": {},
   "outputs": [
    {
     "name": "stdout",
     "output_type": "stream",
     "text": [
      "{'type': 'function', 'function': {'name': 'greet', 'arguments': {'name': 'there'}}} at ['1.tool_calls.0']\n"
     ]
    }
   ],
   "source": [
    "greet_calls = trace.tool_calls(name=\"greet\")\n",
    "print(greet_calls[0])"
   ]
  },
  {
   "cell_type": "markdown",
   "metadata": {},
   "source": [
    "Again, all accesses to tool calls are tracked and include the exact source path and range in the trace (`1.tool_calls.0` here).\n",
    "\n",
    "Note that even though you can select `.tool_calls()` directly on `name` and `arguments`, the returned object is always of `{'type': 'function', 'function': { ... }}` shape."
   ]
  },
  {
   "cell_type": "markdown",
   "metadata": {},
   "source": [
    "## Other Accessors and Transformers\n",
    "\n",
    "In addition to accessing different message types, you can also use custom accessors and transformers to compute extra information from specific trace objects:"
   ]
  },
  {
   "cell_type": "code",
   "execution_count": null,
   "metadata": {},
   "outputs": [],
   "source": [
    "# check that the first message is not too far from \"Hello there\"\n",
    "trace.messages(0)[\"content\"].levenstein(\"Hello there\") < 0.9\n",
    "\n",
    "# check that the first message is not too far from \"Hello there\" in embeddings\n",
    "trace.messages(0)[\"content\"].embedding_distance(\"Hello there\") < 0.9\n",
    "\n",
    "# check the length of the resposne\n",
    "trace.messages(0)[\"content\"].len() < 10\n",
    "\n",
    "# check the number of tokens\n",
    "trace.messages(0)[\"content\"].tokens().len() < 10"
   ]
  },
  {
   "cell_type": "markdown",
   "metadata": {},
   "source": [
    "TODO: extend with more docs on accessors and transformers"
   ]
  },
  {
   "cell_type": "markdown",
   "metadata": {},
   "source": [
    "Here, member functions are used to access to compute derived values such as Levenshtein distance and tokenization of the text. \n",
    "\n",
    "These so-called *transformer* functions on trace objects have the special property that they are fully tracked by the Invariant Testing library: Any result of a transformer function can be tracked back fully to exact input trace objects that were used to compute it.\n",
    "\n",
    "This is especially helpful to track assertion failures back to the exact source of the problem.\n",
    "\n",
    "For instance, when comparing `trace.messages(1001)[\"content\"].len() < 10`, the assertion failure can be attributed to the exact (1001th) message content that caused the failure, rather than just failing on the entire trace as a whole."
   ]
  },
  {
   "cell_type": "markdown",
   "metadata": {},
   "source": [
    "## Making Assertions\n",
    "\n",
    "Invariant Testing supports two types of checks:\n",
    "\n",
    "* Assertions: `assert_that` and `assert_equals`\n",
    "* Expectations: `expect_that` and `expect_equals`\n",
    "\n",
    "Assertions are used to strictly check the trace for a specific condition. If the condition is not met, the test case will count as failed.\n",
    "\n",
    "Expectations are used to check the trace for a specific condition, but the test case will not fail if the condition is not met. This is useful for checking optional conditions or for debugging.\n",
    "\n",
    "A simple Invariant test case looks like this:"
   ]
  },
  {
   "cell_type": "code",
   "execution_count": null,
   "metadata": {},
   "outputs": [],
   "source": [
    "from invariant_runner.custom_types.assertions import (\n",
    "    assert_equals,\n",
    "    assert_that\n",
    ")\n",
    "\n",
    "from invariant_runner.custom_types.matchers import is_sentiment\n",
    "\n",
    "def test_my_property():\n",
    "    trace = Trace(trace=[...])\n",
    "\n",
    "    # test that the first assistant message greets the user with 'Hello there'\n",
    "    assert_equals(trace.messages(role=\"assistant\")[0][\"content\"], \"Hello there\")\n",
    "\n",
    "    # test that the first assistant message has a friendly tone\n",
    "    assert_that(trace.messages(role=\"assistant\")[0], is_sentiment(\"friendly\"))"
   ]
  },
  {
   "cell_type": "markdown",
   "metadata": {},
   "source": [
    "Here, we make two assertions:\n",
    "\n",
    "1. The first assistant message should have the content \"Hello there\"\n",
    "2. The first assistant message's sentiment should be \"friendly\"\n",
    "\n",
    "For the first assertion, we use a simple equality check. For the second assertion, we use a custom matcher `is_sentiment` to check the sentiment of the message.\n"
   ]
  },
  {
   "cell_type": "markdown",
   "metadata": {},
   "source": [
    "## Matchers\n",
    "\n",
    "Next to exact equality checks, Invariant Testing supports custom matchers to check for more complex conditions.\n",
    "\n",
    "Matchers are functions that take a trace value or derived value as produced by transformer and return a boolean value indicating whether the condition is met.\n",
    "\n",
    "For example, above we have made use of the following custom matcher:\n",
    "\n",
    "```python\n",
    "assert_that(trace.messages(0)[\"content\"], is_sentiment(\"friendly\"))\n",
    "```\n",
    "\n",
    "This matcher checks whether the sentiment of the message is \"friendly\" and returns `True` if and only if the sentiment is indeed classified as \"friendly\"."
   ]
  }
 ],
 "metadata": {
  "kernelspec": {
   "display_name": "base",
   "language": "python",
   "name": "python3"
  },
  "language_info": {
   "codemirror_mode": {
    "name": "ipython",
    "version": 3
   },
   "file_extension": ".py",
   "mimetype": "text/x-python",
   "name": "python",
   "nbconvert_exporter": "python",
   "pygments_lexer": "ipython3",
   "version": "3.11.7"
  }
 },
 "nbformat": 4,
 "nbformat_minor": 2
}
