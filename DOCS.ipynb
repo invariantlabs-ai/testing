{
 "cells": [
  {
   "cell_type": "markdown",
   "metadata": {
    "vscode": {
     "languageId": "plaintext"
    }
   },
   "source": [
    "# Invariant Testing\n",
    "\n",
    "This document outlines useful snippets for writing agent trace assertions using the Invariant Testing library.\n",
    "\n",
    "## Inspecting Traces\n",
    "\n",
    "An agent run results in a trace of events and actions that correspond to the actions and responses of the agent.\n",
    "\n",
    "For effective testing, we need to inspect the trace to ensure we are checking our test assertions against the correct parts of the trace.\n",
    "\n",
    "The library provides a simple wrapper to inspect a given trace:\n"
   ]
  },
  {
   "cell_type": "code",
   "execution_count": 1,
   "metadata": {},
   "outputs": [],
   "source": [
    "from invariant_runner.custom_types.trace import Trace\n",
    "\n",
    "trace = Trace(trace=[\n",
    "    {\"role\": \"user\", \"content\": \"Hello there\"},\n",
    "    {\"role\": \"assistant\", \"content\": \"Hello there\", \"tool_calls\": [\n",
    "        {\n",
    "            \"type\": \"function\",\n",
    "            \"function\": {\n",
    "                \"name\": \"greet\",\n",
    "                \"arguments\": {\n",
    "                    \"name\": \"there\"\n",
    "                }\n",
    "            }\n",
    "        }\n",
    "    ]},\n",
    "    {\"role\": \"user\", \"content\": \"I need help with something.\"},\n",
    "])"
   ]
  },
  {
   "cell_type": "markdown",
   "metadata": {},
   "source": [
    "## Selecting Messages\n",
    "\n",
    "A `Trace` object can be used to select specific messages from the trace. This is useful for selecting messages that are relevant to the test assertions."
   ]
  },
  {
   "cell_type": "code",
   "execution_count": 5,
   "metadata": {},
   "outputs": [
    {
     "data": {
      "text/plain": [
       "{'role': 'user', 'content': 'Hello there'} at 0"
      ]
     },
     "execution_count": 5,
     "metadata": {},
     "output_type": "execute_result"
    }
   ],
   "source": [
    "# select the first trace message\n",
    "trace.messages(0)"
   ]
  },
  {
   "cell_type": "code",
   "execution_count": 6,
   "metadata": {},
   "outputs": [
    {
     "data": {
      "text/plain": [
       "InvariantList[{'role': 'user', 'content': 'Hello there'}, {'role': 'user', 'content': 'I need help with something.'}] at [['0'], ['2']]"
      ]
     },
     "execution_count": 6,
     "metadata": {},
     "output_type": "execute_result"
    }
   ],
   "source": [
    "# select all user messages\n",
    "trace.messages(role=\"user\")"
   ]
  },
  {
   "cell_type": "code",
   "execution_count": 7,
   "metadata": {},
   "outputs": [
    {
     "data": {
      "text/plain": [
       "InvariantList[{'role': 'user', 'content': 'I need help with something.'}] at [['2']]"
      ]
     },
     "execution_count": 7,
     "metadata": {},
     "output_type": "execute_result"
    }
   ],
   "source": [
    "# select the message with 'something' in the content\n",
    "trace.messages(content=lambda c: 'something' in c)"
   ]
  },
  {
   "cell_type": "markdown",
   "metadata": {},
   "source": [
    "On the one hand, the `trace.messages(...)` selector function gives you a convenient way to select messages from the trace. However, in addition to this, it also keeps track of the exact path of the resulting objects in the trace.\n",
    "\n",
    "This is useful for debugging and backtracking assertion failures, down to the exact agent event that is causing the failure.\n",
    "\n",
    "Whenever accessing a message, property or sub-dictionary, Invariant Testing will track the exact path and range of its location in the trace."
   ]
  },
  {
   "cell_type": "code",
   "execution_count": 14,
   "metadata": {},
   "outputs": [
    {
     "name": "stdout",
     "output_type": "stream",
     "text": [
      "I need help with something. at 2.content:0-27\n"
     ]
    }
   ],
   "source": [
    "# selecting content from the 2nd message in the trace\n",
    "content = trace.messages(2)[\"content\"]\n",
    "print(content)"
   ]
  },
  {
   "cell_type": "markdown",
   "metadata": {},
   "source": [
    "## Selecting Tool Calls\n",
    "\n",
    "Similar to selecting messages, you can also select just tool calls from the trace."
   ]
  },
  {
   "cell_type": "code",
   "execution_count": 3,
   "metadata": {},
   "outputs": [
    {
     "name": "stdout",
     "output_type": "stream",
     "text": [
      "{'type': 'function', 'function': {'name': 'greet', 'arguments': {'name': 'there'}}} at ['1.tool_calls.0']\n"
     ]
    }
   ],
   "source": [
    "greet_calls = trace.tool_calls(name=\"greet\")\n",
    "print(greet_calls[0])"
   ]
  },
  {
   "cell_type": "markdown",
   "metadata": {},
   "source": [
    "Again, all accesses to tool calls are tracked and include the exact source path and range in the trace (`1.tool_calls.0` here).\n",
    "\n",
    "Note that even though you can select `.tool_calls()` directly on `name` and `arguments`, the returned object is always of `{'type': 'function', 'function': { ... }}` shape."
   ]
  }
 ],
 "metadata": {
  "kernelspec": {
   "display_name": "base",
   "language": "python",
   "name": "python3"
  },
  "language_info": {
   "codemirror_mode": {
    "name": "ipython",
    "version": 3
   },
   "file_extension": ".py",
   "mimetype": "text/x-python",
   "name": "python",
   "nbconvert_exporter": "python",
   "pygments_lexer": "ipython3",
   "version": "3.11.7"
  }
 },
 "nbformat": 4,
 "nbformat_minor": 2
}
