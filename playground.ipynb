{
 "cells": [
  {
   "cell_type": "markdown",
   "metadata": {
    "vscode": {
     "languageId": "plaintext"
    }
   },
   "source": [
    "# Invariant Testing\n",
    "\n",
    "This document outlines useful snippets for writing agent trace assertions using the Invariant Testing library.\n",
    "\n",
    "## Inspecting Traces\n",
    "\n",
    "An agent run results in a trace of events and actions that correspond to the actions and responses of the agent.\n",
    "\n",
    "For effective testing, we need to inspect the trace to ensure we are checking our test assertions against the correct parts of the trace.\n",
    "\n",
    "The library provides a simple wrapper to inspect a given trace:\n"
   ]
  },
  {
   "cell_type": "code",
   "execution_count": 4,
   "metadata": {},
   "outputs": [
    {
     "data": {
      "text/plain": [
       "InvariantList [\n",
       "  {'id': 'call_0rl7PxfCSpNcRWcsK7En', 'type': 'function', 'function': {'name': 'touch', 'arguments': {'file_name': 'Annual_Report_2023.docx'}}}\n",
       "  {'id': 'call_1GD0Zcmv7QhlTD98wrMx', 'type': 'function', 'function': {'name': 'echo', 'arguments': {'content': 'Company Earning: 2000\\nCompany Expenditure: 500\\nCompany Name: Gorilla', 'file_name': 'Annual_Report_2023.docx'}}}\n",
       "  {'id': 'call_XlmkyF9B0zs8FM01ekHu', 'type': 'function', 'function': {'name': 'cat', 'arguments': {'file_name': 'Annual_Report_2023.docx'}}}\n",
       "  {'id': 'call_9KN9syQKROZ8ByrwqXEj', 'type': 'function', 'function': {'name': 'wc', 'arguments': {'file_name': 'Annual_Report_2023.docx', 'mode': 'w'}}}\n",
       "  {'id': 'call_dlCPO9ODvF8I0BDKPyMN', 'type': 'function', 'function': {'name': 'echo', 'arguments': {'content': 'Word Count: 9', 'file_name': 'report_word_count'}}}\n",
       "]"
      ]
     },
     "execution_count": 4,
     "metadata": {},
     "output_type": "execute_result"
    }
   ],
   "source": [
    "from invariant_runner.custom_types.trace import Trace\n",
    "\n",
    "trace = Trace.from_explorer(\"invariant/bfcl-v3_multi_turn_gpt-4o-mini-2024-07-18-FC\", index=7)\n",
    "trace.tool_calls()"
   ]
  },
  {
   "cell_type": "code",
   "execution_count": 8,
   "metadata": {},
   "outputs": [
    {
     "name": "stdout",
     "output_type": "stream",
     "text": [
      "InvariantNumber(value=4, addresses=['1.tool_calls.0', '3.tool_calls.0', '7.tool_calls.0', '11.tool_calls.0'])\n"
     ]
    }
   ],
   "source": [
    "print(trace.tool_calls(type=\"function\").len())"
   ]
  },
  {
   "cell_type": "code",
   "execution_count": 9,
   "metadata": {},
   "outputs": [
    {
     "data": {
      "text/plain": [
       "InvariantString(value={\"error\": \"cd: tmp: No such directory. You cannot use path to change directory.\"}, addresses=['2.content:0-81'])"
      ]
     },
     "execution_count": 9,
     "metadata": {},
     "output_type": "execute_result"
    }
   ],
   "source": [
    "trace.messages(2)[\"content\"]"
   ]
  },
  {
   "cell_type": "code",
   "execution_count": 10,
   "metadata": {},
   "outputs": [
    {
     "data": {
      "text/plain": [
       "InvariantString(value={\"error\": \"cd: tmp: No such directory. You cannot use path to change directory.\"}, addresses=['2.content:0-81'])"
      ]
     },
     "execution_count": 10,
     "metadata": {},
     "output_type": "execute_result"
    }
   ],
   "source": [
    "trace.messages(2)[\"content\"]"
   ]
  },
  {
   "cell_type": "code",
   "execution_count": 1,
   "metadata": {},
   "outputs": [
    {
     "data": {
      "text/plain": [
       "InvariantBool(value=False, addresses=[])"
      ]
     },
     "execution_count": 1,
     "metadata": {},
     "output_type": "execute_result"
    }
   ],
   "source": [
    "from invariant_runner.custom_types.invariant_bool import InvariantBool\n",
    "\n",
    "InvariantBool(False) or InvariantBool(True)"
   ]
  },
  {
   "cell_type": "code",
   "execution_count": 12,
   "metadata": {},
   "outputs": [
    {
     "data": {
      "text/plain": [
       "InvariantBool(value=True, addresses=[])"
      ]
     },
     "execution_count": 12,
     "metadata": {},
     "output_type": "execute_result"
    }
   ],
   "source": [
    "~ InvariantBool(False)"
   ]
  }
 ],
 "metadata": {
  "kernelspec": {
   "display_name": "base",
   "language": "python",
   "name": "python3"
  },
  "language_info": {
   "codemirror_mode": {
    "name": "ipython",
    "version": 3
   },
   "file_extension": ".py",
   "mimetype": "text/x-python",
   "name": "python",
   "nbconvert_exporter": "python",
   "pygments_lexer": "ipython3",
   "version": "3.11.7"
  }
 },
 "nbformat": 4,
 "nbformat_minor": 2
}
