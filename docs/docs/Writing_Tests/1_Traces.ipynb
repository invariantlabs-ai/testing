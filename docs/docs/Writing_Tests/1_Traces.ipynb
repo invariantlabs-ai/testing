{
 "cells": [
  {
   "cell_type": "markdown",
   "metadata": {},
   "source": [
    "# Trace API\n",
    "\n",
    "<div class='subtitle'>Learn to traverse agent traces to write precise assertions</div>"
   ]
  },
  {
   "cell_type": "markdown",
   "metadata": {},
   "source": [
    "An agent run results in a trace of events and actions that correspond to the actions and responses of the agent. For effective testing, we need to inspect the trace to ensure we are checking our test assertions against the correct parts of the trace.\n",
    "\n",
    "For this, `testing` provides the `Trace` data structure to inspect a given trace:\n"
   ]
  },
  {
   "cell_type": "code",
   "execution_count": null,
   "metadata": {},
   "outputs": [],
   "source": [
    "from invariant_runner.custom_types.trace import Trace\n",
    "\n",
    "trace = Trace(trace=[\n",
    "    {\"role\": \"user\", \"content\": \"Hello there\"},\n",
    "    {\"role\": \"assistant\", \"content\": \"Hello there\", \"tool_calls\": [\n",
    "        {\n",
    "            \"type\": \"function\",\n",
    "            \"function\": {\n",
    "                \"name\": \"greet\",\n",
    "                \"arguments\": {\n",
    "                    \"name\": \"there\"\n",
    "                }\n",
    "            }\n",
    "        }\n",
    "    ]},\n",
    "    {\"role\": \"user\", \"content\": \"I need help with something.\"},\n",
    "])"
   ]
  },
  {
   "cell_type": "markdown",
   "metadata": {},
   "source": [
    "## Selecting Messages\n",
    "\n",
    "A `Trace` object can be used to select specific messages from the trace. This is useful for selecting messages that are relevant to the test assertions."
   ]
  },
  {
   "cell_type": "code",
   "execution_count": 4,
   "metadata": {},
   "outputs": [
    {
     "data": {
      "text/plain": [
       "InvariantDict{'role': 'user', 'content': 'Hello there'} at 0"
      ]
     },
     "execution_count": 4,
     "metadata": {},
     "output_type": "execute_result"
    }
   ],
   "source": [
    "# select the first trace message\n",
    "trace.messages(0)"
   ]
  },
  {
   "cell_type": "code",
   "execution_count": 5,
   "metadata": {},
   "outputs": [
    {
     "data": {
      "text/plain": [
       "InvariantList[\n",
       "  {'role': 'user', 'content': 'Hello there'}\n",
       "  {'role': 'user', 'content': 'I need help with something.'}\n",
       "] at [['0'], ['2']]"
      ]
     },
     "execution_count": 5,
     "metadata": {},
     "output_type": "execute_result"
    }
   ],
   "source": [
    "# select all user messages\n",
    "trace.messages(role=\"user\")"
   ]
  },
  {
   "cell_type": "code",
   "execution_count": 7,
   "metadata": {},
   "outputs": [
    {
     "data": {
      "text/plain": [
       "InvariantList[\n",
       "  {'role': 'user', 'content': 'I need help with something.'}\n",
       "] at [['2']]"
      ]
     },
     "execution_count": 7,
     "metadata": {},
     "output_type": "execute_result"
    }
   ],
   "source": [
    "# select the message with 'something' in the content\n",
    "trace.messages(content=lambda c: 'something' in c)"
   ]
  },
  {
   "cell_type": "markdown",
   "metadata": {},
   "source": [
    "**Assertion Localization**: On the one hand, the `trace.messages(...)` selector function gives you a convenient way to select messages from the trace. In addition to this, however, it will also always keep track of the exact path of the resulting objects in the trace.\n",
    "\n",
    "This is useful for debugging and to localize assertion failures, down to the exact agent event that is causing the failure.\n",
    "\n",
    "This also applies to multiple levels of nested structures, e.g. when selecting the content of a specific message only:"
   ]
  },
  {
   "cell_type": "code",
   "execution_count": 8,
   "metadata": {},
   "outputs": [
    {
     "data": {
      "text/plain": [
       "InvariantString(value=I need help with something., addresses=['2.content:0-27'])"
      ]
     },
     "execution_count": 8,
     "metadata": {},
     "output_type": "execute_result"
    }
   ],
   "source": [
    "# selecting content from the 2nd message in the trace\n",
    "trace.messages(2)[\"content\"]"
   ]
  },
  {
   "cell_type": "markdown",
   "metadata": {},
   "source": [
    "## Selecting Tool Calls\n",
    "\n",
    "Similar to selecting messages, you can also select just tool calls from the trace."
   ]
  },
  {
   "cell_type": "code",
   "execution_count": 9,
   "metadata": {},
   "outputs": [
    {
     "name": "stdout",
     "output_type": "stream",
     "text": [
      "InvariantDict{'type': 'function', 'function': {'name': 'greet', 'arguments': {'name': 'there'}}} at ['1.tool_calls.0']\n"
     ]
    }
   ],
   "source": [
    "greet_calls = trace.tool_calls(name=\"greet\")\n",
    "print(greet_calls[0])"
   ]
  },
  {
   "cell_type": "markdown",
   "metadata": {},
   "source": [
    "Again, all accesses are tracked and include the exact source path and range in the trace (e.g. `1.tool_calls.0` here).\n",
    "\n",
    "> Note that even though you can select `.tool_calls()` directly on `name` and `arguments`, the returned object is always of `{'type': 'function', 'function': { ... }}` shape."
   ]
  },
  {
   "cell_type": "markdown",
   "metadata": {},
   "source": [
    "## Accessors: Deriving Extra Information\n",
    "\n",
    "After selecting individual messages or tool calls, you can also derive extra information from them. This is useful for computing similarity metrics, comparisons or other derived information.\n",
    "\n",
    "For instance, to compute the length of some messages's `content`, the following method can be used:"
   ]
  },
  {
   "cell_type": "code",
   "execution_count": 9,
   "metadata": {},
   "outputs": [
    {
     "data": {
      "text/plain": [
       "InvariantNumber(value=11, addresses=['0.content:0-11'])"
      ]
     },
     "execution_count": 9,
     "metadata": {},
     "output_type": "execute_result"
    }
   ],
   "source": [
    "# check the length of the resposne\n",
    "trace.messages(0)[\"content\"].len()"
   ]
  },
  {
   "cell_type": "markdown",
   "metadata": {},
   "source": [
    "As we compute extra information, like the length of a string, the path in the trace is still tracked and included in the result. This is useful for debugging and to localize assertion failures, down to the exact agent event that is causing the failure."
   ]
  },
  {
   "cell_type": "markdown",
   "metadata": {},
   "source": [
    "### Similarity Metrics"
   ]
  },
  {
   "cell_type": "code",
   "execution_count": 16,
   "metadata": {},
   "outputs": [
    {
     "data": {
      "text/plain": [
       "InvariantNumber(value=1.0, addresses=['0.content:0-11'])"
      ]
     },
     "execution_count": 16,
     "metadata": {},
     "output_type": "execute_result"
    }
   ],
   "source": [
    "# check that the first message is not too far from \"Hello there\"\n",
    "trace.messages(0)[\"content\"].levenshtein(\"Hello there\")"
   ]
  },
  {
   "cell_type": "code",
   "execution_count": 5,
   "metadata": {},
   "outputs": [
    {
     "name": "stderr",
     "output_type": "stream",
     "text": [
      "INFO:httpx:HTTP Request: POST https://api.openai.com/v1/embeddings \"HTTP/1.1 200 OK\"\n",
      "INFO:httpx:HTTP Request: POST https://api.openai.com/v1/embeddings \"HTTP/1.1 200 OK\"\n"
     ]
    },
    {
     "data": {
      "text/plain": [
       "InvariantBool(value=True, addresses=['0.content:0-11'])"
      ]
     },
     "execution_count": 5,
     "metadata": {},
     "output_type": "execute_result"
    }
   ],
   "source": [
    "# check that the first message is not too far from \"Hello there\" in embeddings\n",
    "trace.messages(0)[\"content\"].is_similar(\"Greetings\")"
   ]
  },
  {
   "cell_type": "code",
   "execution_count": null,
   "metadata": {},
   "outputs": [
    {
     "data": {
      "text/plain": [
       "InvariantNumber(value=11, addresses=['0.content:0-11'])"
      ]
     },
     "execution_count": 7,
     "metadata": {},
     "output_type": "execute_result"
    }
   ],
   "source": []
  },
  {
   "cell_type": "markdown",
   "metadata": {},
   "source": [
    "Here, member functions are used to access to compute derived values such as Levenshtein distance and tokenization of the text. \n",
    "\n",
    "These so-called *transformer* functions on trace objects have the special property that they are fully tracked by the Invariant Testing library: Any result of a transformer function can be tracked back fully to exact input trace objects that were used to compute it.\n",
    "\n",
    "This is especially helpful to track assertion failures back to the exact source of the problem.\n",
    "\n",
    "For instance, when comparing `trace.messages(1001)[\"content\"].len() < 10`, the assertion failure can be attributed to the exact (1001th) message content that caused the failure, rather than just failing on the entire trace as a whole."
   ]
  }
 ],
 "metadata": {
  "kernelspec": {
   "display_name": "base",
   "language": "python",
   "name": "python3"
  },
  "language_info": {
   "codemirror_mode": {
    "name": "ipython",
    "version": 3
   },
   "file_extension": ".py",
   "mimetype": "text/x-python",
   "name": "python",
   "nbconvert_exporter": "python",
   "pygments_lexer": "ipython3",
   "version": "3.11.7"
  }
 },
 "nbformat": 4,
 "nbformat_minor": 2
}
